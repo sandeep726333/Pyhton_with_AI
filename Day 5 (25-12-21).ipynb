{
 "cells": [
  {
   "cell_type": "markdown",
   "id": "5bf51bcb",
   "metadata": {},
   "source": [
    "# PYTHON (jup notebook)\n",
    "\n",
    "## Side headings\n",
    "- Python Side Headings\n",
    "  - Side heading 1\n",
    "  - Side heading 2\n",
    " \n",
    " # Font style\n",
    " - *Italic*\n",
    " - **bold**\n",
    " - ***italic+bold***"
   ]
  },
  {
   "cell_type": "markdown",
   "id": "cb96c3e7",
   "metadata": {},
   "source": [
    "# Print Function\n",
    "- print function used to print specific text or message"
   ]
  },
  {
   "cell_type": "code",
   "execution_count": 1,
   "id": "83d969d2",
   "metadata": {},
   "outputs": [
    {
     "name": "stdout",
     "output_type": "stream",
     "text": [
      "Hello world\n"
     ]
    }
   ],
   "source": [
    "print(\"Hello world\")"
   ]
  },
  {
   "cell_type": "code",
   "execution_count": 20,
   "id": "59a1549c",
   "metadata": {},
   "outputs": [
    {
     "name": "stdout",
     "output_type": "stream",
     "text": [
      "Hello,world\n"
     ]
    }
   ],
   "source": [
    "print (\"Hello,world\")"
   ]
  },
  {
   "cell_type": "code",
   "execution_count": 5,
   "id": "5d7cf42f",
   "metadata": {},
   "outputs": [
    {
     "name": "stdout",
     "output_type": "stream",
     "text": [
      "one two 3\n"
     ]
    }
   ],
   "source": [
    "print(\"one\",\"two\",\"3\")"
   ]
  },
  {
   "cell_type": "code",
   "execution_count": 14,
   "id": "d72950c4",
   "metadata": {},
   "outputs": [
    {
     "name": "stdout",
     "output_type": "stream",
     "text": [
      "HI hello\n"
     ]
    }
   ],
   "source": [
    "print((\"HI\"), (\"hello\"))"
   ]
  },
  {
   "cell_type": "code",
   "execution_count": 32,
   "id": "34910ec3",
   "metadata": {},
   "outputs": [
    {
     "name": "stdout",
     "output_type": "stream",
     "text": [
      "HEllo Python Learner\n",
      "LOL\n",
      "OMG\n"
     ]
    }
   ],
   "source": [
    "print((\"HEllo\"),(\"Python\"),(\"Learner\"))\n",
    "print (\"LOL\")\n",
    "print(\"OMG\")"
   ]
  },
  {
   "cell_type": "markdown",
   "id": "6e0f2b81",
   "metadata": {},
   "source": [
    "# Variables\n",
    "## To store some data values"
   ]
  },
  {
   "cell_type": "code",
   "execution_count": 35,
   "id": "6accea1c",
   "metadata": {},
   "outputs": [
    {
     "name": "stdout",
     "output_type": "stream",
     "text": [
      "10\n"
     ]
    }
   ],
   "source": [
    "a = 10 # 1 Variable & 1 value \n",
    "print(a)"
   ]
  },
  {
   "cell_type": "code",
   "execution_count": 37,
   "id": "e8bbf210",
   "metadata": {},
   "outputs": [
    {
     "name": "stdout",
     "output_type": "stream",
     "text": [
      "10 10 10 10\n"
     ]
    }
   ],
   "source": [
    "a=b=c=d=10 # multi variables + 1 value\n",
    "print (a,b,c,d)"
   ]
  },
  {
   "cell_type": "code",
   "execution_count": 46,
   "id": "bb02d80a",
   "metadata": {},
   "outputs": [
    {
     "name": "stdout",
     "output_type": "stream",
     "text": [
      "10 20 30\n"
     ]
    }
   ],
   "source": [
    "a,b,c,d=10,20,30,40 # Multi variables + multi values\n",
    "print(a,b,c)"
   ]
  },
  {
   "cell_type": "markdown",
   "id": "da761a24",
   "metadata": {},
   "source": [
    "# Input Functions\n",
    "- Accept input from user"
   ]
  },
  {
   "cell_type": "code",
   "execution_count": 59,
   "id": "1e893067",
   "metadata": {},
   "outputs": [
    {
     "name": "stdout",
     "output_type": "stream",
     "text": [
      "Enter Your Name: sandeep\n",
      "Your name is: sandeep\n"
     ]
    }
   ],
   "source": [
    "# input as text\n",
    "x = input(\"Enter Your Name: \")\n",
    "print (\"Your name is:\",x)"
   ]
  },
  {
   "cell_type": "markdown",
   "id": "b8c6bff9",
   "metadata": {},
   "source": [
    "# Data Types"
   ]
  },
  {
   "cell_type": "code",
   "execution_count": 54,
   "id": "f13a986a",
   "metadata": {},
   "outputs": [
    {
     "name": "stdout",
     "output_type": "stream",
     "text": [
      "Enter a number:20\n",
      "20\n",
      "<class 'int'>\n"
     ]
    }
   ],
   "source": [
    "# input as number\n",
    "x = int(input(\"Enter a number:\"))\n",
    "print(x)\n",
    "print(type(x))"
   ]
  },
  {
   "cell_type": "code",
   "execution_count": 55,
   "id": "d932ef4b",
   "metadata": {},
   "outputs": [
    {
     "name": "stdout",
     "output_type": "stream",
     "text": [
      "10.5\n",
      "<class 'float'>\n"
     ]
    }
   ],
   "source": [
    "a = 10.5\n",
    "print(a)\n",
    "print(type(a))"
   ]
  },
  {
   "cell_type": "code",
   "execution_count": 58,
   "id": "85148dc3",
   "metadata": {},
   "outputs": [
    {
     "name": "stdout",
     "output_type": "stream",
     "text": [
      "Sandeep\n",
      "<class 'str'>\n"
     ]
    }
   ],
   "source": [
    "A= \"Sandeep\"\n",
    "print(A)\n",
    "print(type(A))"
   ]
  },
  {
   "cell_type": "markdown",
   "id": "79fb58dc",
   "metadata": {},
   "source": [
    "# Conversions"
   ]
  },
  {
   "cell_type": "code",
   "execution_count": 69,
   "id": "755b02f4",
   "metadata": {},
   "outputs": [
    {
     "name": "stdout",
     "output_type": "stream",
     "text": [
      "10 <class 'int'>\n",
      "10.0 <class 'float'>\n",
      "10 <class 'str'>\n"
     ]
    }
   ],
   "source": [
    "# integer\n",
    "a=10\n",
    "print(a,type(a))\n",
    "f = float(a)\n",
    "print(f,type(f))\n",
    "s= str(a)\n",
    "print(s,type(s))"
   ]
  },
  {
   "cell_type": "code",
   "execution_count": 76,
   "id": "b1a3872b",
   "metadata": {},
   "outputs": [
    {
     "name": "stdout",
     "output_type": "stream",
     "text": [
      "111 <class 'str'>\n",
      "111.0 <class 'float'>\n",
      "111 <class 'int'>\n"
     ]
    }
   ],
   "source": [
    "# String\n",
    "x = \"111\"\n",
    "print(x,type(x))\n",
    "f=float(x)\n",
    "print(f,type(f))\n",
    "i=int(x)\n",
    "print(i,type(i))"
   ]
  },
  {
   "cell_type": "code",
   "execution_count": 82,
   "id": "1e53061a",
   "metadata": {},
   "outputs": [
    {
     "name": "stdout",
     "output_type": "stream",
     "text": [
      "1.2 <class 'float'>\n",
      "1.2 <class 'str'>\n",
      "1 <class 'int'>\n"
     ]
    }
   ],
   "source": [
    "# Float\n",
    "c=1.2\n",
    "print(c,type(c))\n",
    "s=str(c)\n",
    "print(s,type(s))\n",
    "i=int(c)\n",
    "print(i,type(i))"
   ]
  },
  {
   "cell_type": "markdown",
   "id": "aa2da110",
   "metadata": {},
   "source": [
    "# Examples"
   ]
  },
  {
   "cell_type": "code",
   "execution_count": 114,
   "id": "73fbb520",
   "metadata": {},
   "outputs": [
    {
     "name": "stdout",
     "output_type": "stream",
     "text": [
      "Enter a number:10\n",
      "Enter a number:20\n",
      "30 -10 200 0.5\n"
     ]
    }
   ],
   "source": [
    "A= int(input(\"Enter a number:\"))\n",
    "B= int(input(\"Enter a number:\"))\n",
    "C=A+B\n",
    "D=A-B\n",
    "E=A*B\n",
    "F=A/B\n",
    "print(C,D,E,F)"
   ]
  },
  {
   "cell_type": "code",
   "execution_count": 116,
   "id": "e0488fc3",
   "metadata": {},
   "outputs": [
    {
     "name": "stdout",
     "output_type": "stream",
     "text": [
      "Enter your name :James\n",
      "name is  James\n"
     ]
    }
   ],
   "source": [
    "n= input(\"Enter your name :\")\n",
    "print(\"name is \",n)"
   ]
  },
  {
   "cell_type": "code",
   "execution_count": 125,
   "id": "662774c6",
   "metadata": {},
   "outputs": [
    {
     "name": "stdout",
     "output_type": "stream",
     "text": [
      "Enter radius:2\n",
      "12.56\n"
     ]
    }
   ],
   "source": [
    "pi=3.14\n",
    "r= int(input(\"Enter radius:\"))\n",
    "print(pi*r*r)"
   ]
  },
  {
   "cell_type": "code",
   "execution_count": 123,
   "id": "a395868d",
   "metadata": {},
   "outputs": [
    {
     "name": "stdout",
     "output_type": "stream",
     "text": [
      "Enter a year1000\n",
      "1050\n"
     ]
    }
   ],
   "source": [
    "A= int(input(\"Enter a year\"))\n",
    "A=A+50\n",
    "print(A)\n"
   ]
  },
  {
   "cell_type": "code",
   "execution_count": null,
   "id": "c3a68e36",
   "metadata": {},
   "outputs": [],
   "source": []
  }
 ],
 "metadata": {
  "kernelspec": {
   "display_name": "Python 3 (ipykernel)",
   "language": "python",
   "name": "python3"
  },
  "language_info": {
   "codemirror_mode": {
    "name": "ipython",
    "version": 3
   },
   "file_extension": ".py",
   "mimetype": "text/x-python",
   "name": "python",
   "nbconvert_exporter": "python",
   "pygments_lexer": "ipython3",
   "version": "3.9.7"
  }
 },
 "nbformat": 4,
 "nbformat_minor": 5
}
