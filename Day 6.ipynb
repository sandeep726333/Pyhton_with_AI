{
 "cells": [
  {
   "cell_type": "markdown",
   "id": "3ade2787",
   "metadata": {},
   "source": [
    "# Python Operators\n",
    "- to perform operations on both variables & values"
   ]
  },
  {
   "cell_type": "markdown",
   "id": "80913665",
   "metadata": {},
   "source": [
    "# Arithmetic Operators\n",
    "- used to perform math operations\n",
    "   - Operators:\n",
    "   - **+** --Addition \n",
    "   - **-** -- Subtraction\n",
    "    "
   ]
  },
  {
   "cell_type": "code",
   "execution_count": 3,
   "id": "8a0c0c2d",
   "metadata": {},
   "outputs": [
    {
     "name": "stdout",
     "output_type": "stream",
     "text": [
      "15\n",
      "5\n",
      "2.0\n",
      "50\n",
      "0\n",
      "100000\n",
      "2\n"
     ]
    }
   ],
   "source": [
    "x=10\n",
    "y=5\n",
    "print(x+y)\n",
    "print(x-y)\n",
    "print(x/y)\n",
    "print(x*y)\n",
    "print(x%y)\n",
    "print(x**y)\n",
    "print(x//y)"
   ]
  },
  {
   "cell_type": "markdown",
   "id": "8f90729c",
   "metadata": {},
   "source": [
    "# Assignment Operators:\n",
    "- used top assign values to variables\n",
    "- Opeators:\n",
    " - **'='**"
   ]
  },
  {
   "cell_type": "code",
   "execution_count": 20,
   "id": "e69a4bae",
   "metadata": {},
   "outputs": [
    {
     "name": "stdout",
     "output_type": "stream",
     "text": [
      "6\n",
      "4\n",
      "1.0\n",
      "20.0\n",
      "2.0\n",
      "32.0\n",
      "6.0\n"
     ]
    }
   ],
   "source": [
    "x= 5\n",
    "x+=1\n",
    "print(x)\n",
    "x-=2\n",
    "print(x)\n",
    "x/=4\n",
    "print(x)\n",
    "x*=20\n",
    "print(x)\n",
    "x%=6\n",
    "print(x)\n",
    "x**=5\n",
    "print(x)\n",
    "x//=5\n",
    "print(x)\n"
   ]
  },
  {
   "cell_type": "markdown",
   "id": "f9bd0ce1",
   "metadata": {},
   "source": [
    "# Comparision Operators\n",
    "- used to compare values\n",
    "- operators\n",
    "  - **==**\n",
    "  - **!=**\n",
    "  - **<**\n",
    "  - **>**\n",
    "  - **<=**\n",
    "  - **>=**"
   ]
  },
  {
   "cell_type": "code",
   "execution_count": 21,
   "id": "fed8f217",
   "metadata": {},
   "outputs": [
    {
     "name": "stdout",
     "output_type": "stream",
     "text": [
      "False\n",
      "True\n",
      "True\n",
      "False\n",
      "True\n",
      "False\n"
     ]
    }
   ],
   "source": [
    "x=10\n",
    "y=20\n",
    "print(x==y)\n",
    "print(x!=y)\n",
    "print(x<y)\n",
    "print(x>y)\n",
    "print(x<=y)\n",
    "print(x>=y)"
   ]
  },
  {
   "cell_type": "markdown",
   "id": "3dc3e54e",
   "metadata": {},
   "source": [
    "# Logical Operators\n",
    " - used to compare conditional statements\n",
    " - Oerators:\n",
    "  - **and**\n",
    "  - **or**\n",
    "  - **not**"
   ]
  },
  {
   "cell_type": "code",
   "execution_count": 32,
   "id": "f147a0d3",
   "metadata": {},
   "outputs": [
    {
     "name": "stdout",
     "output_type": "stream",
     "text": [
      "True\n",
      "False\n",
      "True\n",
      "False\n",
      "True\n"
     ]
    }
   ],
   "source": [
    "x=5\n",
    "print(x>2 and x<10)\n",
    "print(x>2 and x>10)\n",
    "print(x>2 or x<10)\n",
    "print(x<2 or x>10)\n",
    "print(not(x<2 or x>10))"
   ]
  },
  {
   "cell_type": "markdown",
   "id": "fa5e5b11",
   "metadata": {},
   "source": [
    "# Identity Operators\n",
    "- used to compare objects\n",
    " - Operators\n",
    "  - is\n",
    "  - is not"
   ]
  },
  {
   "cell_type": "code",
   "execution_count": 37,
   "id": "76883538",
   "metadata": {},
   "outputs": [
    {
     "name": "stdout",
     "output_type": "stream",
     "text": [
      "False\n",
      "True\n",
      "True\n",
      "False\n",
      "True\n"
     ]
    }
   ],
   "source": [
    "a=5\n",
    "b=6\n",
    "c=5\n",
    "print(a is b)\n",
    "print(a is not b)\n",
    "print(a is c)\n",
    "print(a is not c)\n",
    "print(a is c is not b)"
   ]
  },
  {
   "cell_type": "markdown",
   "id": "032ae981",
   "metadata": {},
   "source": [
    "# Membership Operators\n",
    "- used to test given sequence is presented in object\n",
    "- operators:\n",
    " - in \n",
    " - not in"
   ]
  },
  {
   "cell_type": "code",
   "execution_count": 49,
   "id": "643f0a0a",
   "metadata": {},
   "outputs": [
    {
     "name": "stdout",
     "output_type": "stream",
     "text": [
      "True\n",
      "False\n",
      "True\n",
      "True\n",
      "False\n",
      "True\n"
     ]
    }
   ],
   "source": [
    "a = \"sandeep\"\n",
    "print(\"s\" in a)\n",
    "print(\"na\" in a)\n",
    "print(\"na\" not in a)\n",
    "print(\"an\" in a)\n",
    "print(\"kl\" in a)\n",
    "print(\"kl\" not in a)"
   ]
  },
  {
   "cell_type": "markdown",
   "id": "6789faab",
   "metadata": {},
   "source": [
    "# Control Flow Statements:\n",
    "- conditional statements\n",
    " - if-else statement\n",
    "- Looping statements\n",
    " - while loop statement\n",
    " - for loop statement"
   ]
  },
  {
   "cell_type": "code",
   "execution_count": null,
   "id": "b75ea0a0",
   "metadata": {},
   "outputs": [],
   "source": [
    "#syntax:\n",
    "if boolean_condition:\n",
    "    statement\n",
    "elif:\n",
    "    statement\n",
    "else:\n",
    "    statement"
   ]
  },
  {
   "cell_type": "code",
   "execution_count": 7,
   "id": "9318e3ea",
   "metadata": {},
   "outputs": [
    {
     "name": "stdout",
     "output_type": "stream",
     "text": [
      "Enter a number12\n",
      "Even number\n"
     ]
    }
   ],
   "source": [
    "# check given number is even or odd\n",
    "n = int(input(\"Enter a number\"))\n",
    "if n%2 ==0:\n",
    "    print(\"Even number\")\n",
    "else :\n",
    "    print(\"Odd number\")"
   ]
  },
  {
   "cell_type": "code",
   "execution_count": 10,
   "id": "888de37a",
   "metadata": {},
   "outputs": [
    {
     "name": "stdout",
     "output_type": "stream",
     "text": [
      "Enter a number:12\n",
      "No\n"
     ]
    }
   ],
   "source": [
    "# check numbers are multiples of both 3 and 5\n",
    "n=int(input(\"Enter a number:\"))\n",
    "if n%3==0 and n%5==0:\n",
    "    print (\"Yes\")\n",
    "else:\n",
    "    print(\"No\")"
   ]
  },
  {
   "cell_type": "code",
   "execution_count": 29,
   "id": "d2efbf56",
   "metadata": {},
   "outputs": [
    {
     "name": "stdout",
     "output_type": "stream",
     "text": [
      "Enter a number:0\n",
      "0\n"
     ]
    }
   ],
   "source": [
    "# check given is positive number,negative number, or zero\n",
    "n=int(input(\"Enter a number:\"))\n",
    "if n>0:\n",
    "    print(\"Positive\")\n",
    "elif n<0:\n",
    "    print(\"Negative\")\n",
    "else:\n",
    "    print(\"0\")"
   ]
  },
  {
   "cell_type": "code",
   "execution_count": 30,
   "id": "25952bfe",
   "metadata": {},
   "outputs": [
    {
     "name": "stdout",
     "output_type": "stream",
     "text": [
      "Enter a number:12\n",
      "Enter a number:10\n",
      "Enter a number:11\n",
      "m is greater\n"
     ]
    }
   ],
   "source": [
    "# Find large number by given 3 inputs\n",
    "m=int(input(\"Enter a number:\"))\n",
    "n=int(input(\"Enter a number:\"))\n",
    "o=int(input(\"Enter a number:\"))\n",
    "if m>n and m>o:\n",
    "    print(\"m is greater\")\n",
    "elif n>m and n>o:\n",
    "    print(\"n is greater\")\n",
    "else:\n",
    "    print(\"o is greater\")"
   ]
  },
  {
   "cell_type": "code",
   "execution_count": 56,
   "id": "eae7ea37",
   "metadata": {},
   "outputs": [
    {
     "name": "stdout",
     "output_type": "stream",
     "text": [
      "Enter a number:25\n",
      "E grade\n"
     ]
    }
   ],
   "source": [
    "# Find Grading\n",
    "x=int(input(\"Enter a number:\"))\n",
    "if x>80:\n",
    "    print (\"A grade\")\n",
    "elif x>60:\n",
    "    print(\"B grade\")\n",
    "elif x>50:\n",
    "    print(\"C grade\")\n",
    "elif x>45:\n",
    "    print(\"D grade\")\n",
    "elif x>=25:\n",
    "    print(\"E grade\")\n",
    "else:\n",
    "    print(\"F grade\")"
   ]
  },
  {
   "cell_type": "markdown",
   "id": "4f4918e1",
   "metadata": {},
   "source": [
    "# While loop statement"
   ]
  },
  {
   "cell_type": "code",
   "execution_count": 68,
   "id": "b35c67a9",
   "metadata": {},
   "outputs": [
    {
     "name": "stdout",
     "output_type": "stream",
     "text": [
      "python\n",
      "python\n",
      "python\n",
      "python\n",
      "python\n",
      "python\n"
     ]
    }
   ],
   "source": [
    "a=0\n",
    "while a<6:\n",
    "    print(\"python\")\n",
    "    a = a+1"
   ]
  },
  {
   "cell_type": "code",
   "execution_count": 20,
   "id": "aa71ee05",
   "metadata": {},
   "outputs": [
    {
     "name": "stdout",
     "output_type": "stream",
     "text": [
      "1   2   3   4   5   6   7   8   9   10   "
     ]
    }
   ],
   "source": [
    "# print 1 to 10 numbers\n",
    "a=1\n",
    "while a<11:\n",
    "     print(a,end=\"   \")\n",
    "     a=a+1"
   ]
  },
  {
   "cell_type": "code",
   "execution_count": 19,
   "id": "1cf24a69",
   "metadata": {},
   "outputs": [
    {
     "name": "stdout",
     "output_type": "stream",
     "text": [
      "2   4   6   8   10   "
     ]
    }
   ],
   "source": [
    "# print even numbers from 1 to 10\n",
    "a=1\n",
    "while a<=10:\n",
    "    if a%2== 0:\n",
    "        print(a,end=\"   \")\n",
    "    a=a+1"
   ]
  },
  {
   "cell_type": "code",
   "execution_count": 41,
   "id": "b1c3ddcf",
   "metadata": {},
   "outputs": [
    {
     "name": "stdout",
     "output_type": "stream",
     "text": [
      "Enter a number : 12\n",
      "1  2  3  4  6  12  "
     ]
    }
   ],
   "source": [
    "# input:6, multiplesof 6 o/p:1 2 3 6\n",
    "a=1\n",
    "n=int(input(\"Enter a number : \"))\n",
    "while a<=n:\n",
    "    if n%a ==0:\n",
    "        print(a,end=\"  \")\n",
    "    a=a+1"
   ]
  },
  {
   "cell_type": "code",
   "execution_count": null,
   "id": "86843a7c",
   "metadata": {},
   "outputs": [],
   "source": []
  }
 ],
 "metadata": {
  "kernelspec": {
   "display_name": "Python 3 (ipykernel)",
   "language": "python",
   "name": "python3"
  },
  "language_info": {
   "codemirror_mode": {
    "name": "ipython",
    "version": 3
   },
   "file_extension": ".py",
   "mimetype": "text/x-python",
   "name": "python",
   "nbconvert_exporter": "python",
   "pygments_lexer": "ipython3",
   "version": "3.9.7"
  }
 },
 "nbformat": 4,
 "nbformat_minor": 5
}
